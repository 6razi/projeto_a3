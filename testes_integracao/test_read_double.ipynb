{
 "cells": [
  {
   "cell_type": "code",
   "execution_count": null,
   "id": "33bfa0ba",
   "metadata": {
    "vscode": {
     "languageId": "plaintext"
    }
   },
   "outputs": [],
   "source": [
    "import sys\n",
    "from io import StringIO\n",
    "\n",
    "def read_double(prompt):\n",
    "    while True:\n",
    "        try:\n",
    "            valor = float(input(prompt))\n",
    "            if valor < 0:\n",
    "                print(\"Por favor, insira um número positivo\")\n",
    "            else:\n",
    "                return valor\n",
    "        except ValueError:\n",
    "            print(\"Entrada inválida\")\n",
    "\n",
    "def fake_input(prompt, inputs):\n",
    "    def input_mock(_prompt=prompt):\n",
    "        return inputs.pop(0)\n",
    "    return input_mock\n",
    "\n",
    "def test_integracao_read_double_entrada_valida():\n",
    "    inputs = ['123.45']\n",
    "    original_input = __builtins__.input\n",
    "    __builtins__.input = fake_input(\"Digite um número: \", inputs)\n",
    "    valor = read_double(\"Digite um número: \")\n",
    "    __builtins__.input = original_input\n",
    "    assert valor == 123.45\n",
    "    print(\"✅ test_integracao_read_double_entrada_valida passou\")\n",
    "\n",
    "def test_integracao_read_double_entrada_invalida_e_valida():\n",
    "    inputs = ['abc', '-10', '50.5']\n",
    "    original_input = __builtins__.input\n",
    "    __builtins__.input = fake_input(\"Digite um número: \", inputs)\n",
    "\n",
    "    old_stdout = sys.stdout\n",
    "    sys.stdout = mystdout = StringIO()\n",
    "\n",
    "    valor = read_double(\"Digite um número: \")\n",
    "\n",
    "    sys.stdout = old_stdout\n",
    "    __builtins__.input = original_input\n",
    "\n",
    "    output = mystdout.getvalue()\n",
    "\n",
    "    assert \"Entrada inválida\" in output\n",
    "    assert \"Por favor, insira um número positivo\" in output\n",
    "    assert valor == 50.5\n",
    "    print(\"✅ test_integracao_read_double_entrada_invalida_e_valida passou\")\n",
    "\n",
    "# Executando os testes\n",
    "test_integracao_read_double_entrada_valida()\n",
    "test_integracao_read_double_entrada_invalida_e_valida()\n",
    "\n",
    "print(\"✅ Todos os testes para read_double passaram!\")"
   ]
  }
 ],
 "metadata": {
  "language_info": {
   "name": "python"
  }
 },
 "nbformat": 4,
 "nbformat_minor": 5
}
