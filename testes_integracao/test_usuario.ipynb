{
 "cells": [
  {
   "cell_type": "code",
   "execution_count": null,
   "id": "afbf5819",
   "metadata": {
    "vscode": {
     "languageId": "plaintext"
    }
   },
   "outputs": [],
   "source": [
    "import unittest\n",
    "import sqlite3\n",
    "\n",
    "def create_user(conn, username, password):\n",
    "    cursor = conn.cursor()\n",
    "    cursor.execute(\n",
    "        \"INSERT INTO usuarios (username, password) VALUES (?, ?)\",\n",
    "        (username, password)\n",
    "    )\n",
    "    conn.commit()\n",
    "\n",
    "def authenticate_user(conn, username, password):\n",
    "    cursor = conn.cursor()\n",
    "    cursor.execute(\n",
    "        \"SELECT 1 FROM usuarios WHERE username = ? AND password = ?\",\n",
    "        (username, password)\n",
    "    )\n",
    "    return cursor.fetchone() is not None\n",
    "\n",
    "class TestUsuarioIntegracao(unittest.TestCase):\n",
    "    def setUp(self):\n",
    "        self.conn = sqlite3.connect(':memory:')\n",
    "        self.init_db_with_connection(self.conn)\n",
    "\n",
    "    def tearDown(self):\n",
    "        self.conn.close()\n",
    "\n",
    "    def init_db_with_connection(self, conn):\n",
    "        cursor = conn.cursor()\n",
    "        cursor.execute('''CREATE TABLE IF NOT EXISTS usuarios (\n",
    "            id INTEGER PRIMARY KEY AUTOINCREMENT,\n",
    "            username TEXT UNIQUE,\n",
    "            password TEXT\n",
    "        )''')\n",
    "        conn.commit()\n",
    "\n",
    "    def test_criar_e_autenticar_usuario(self):\n",
    "        username = \"usuario_teste\"\n",
    "        password = \"senha_segura\"\n",
    "\n",
    "        create_user(self.conn, username, password)\n",
    "\n",
    "        self.assertTrue(authenticate_user(self.conn, username, password))\n",
    "        self.assertFalse(authenticate_user(self.conn, username, \"senha_errada\"))\n",
    "\n",
    "unittest.TextTestRunner().run(unittest.defaultTestLoader.loadTestsFromTestCase(TestUsuarioIntegracao))\n"
   ]
  }
 ],
 "metadata": {
  "language_info": {
   "name": "python"
  }
 },
 "nbformat": 4,
 "nbformat_minor": 5
}
