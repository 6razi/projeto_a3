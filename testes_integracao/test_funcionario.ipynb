{
 "cells": [
  {
   "cell_type": "code",
   "execution_count": null,
   "id": "a01a6916",
   "metadata": {
    "vscode": {
     "languageId": "plaintext"
    }
   },
   "outputs": [],
   "source": [
    "import sqlite3\n",
    "\n",
    "# Classe Funcionario (recriada para o teste)\n",
    "class Funcionario:\n",
    "    def __init__(self, nome, cargo, salario):\n",
    "        self.nome = nome\n",
    "        self.cargo = cargo\n",
    "        self.salario = salario\n",
    "\n",
    "# Função para criar a tabela no banco de dados\n",
    "def init_db(conn):\n",
    "    cursor = conn.cursor()\n",
    "    cursor.execute('''\n",
    "        CREATE TABLE IF NOT EXISTS funcionarios (\n",
    "            id INTEGER PRIMARY KEY AUTOINCREMENT,\n",
    "            nome TEXT NOT NULL,\n",
    "            cargo TEXT NOT NULL,\n",
    "            salario REAL NOT NULL\n",
    "        )\n",
    "    ''')\n",
    "    conn.commit()\n",
    "\n",
    "# Função para inserir funcionário\n",
    "def inserir_funcionario(conn, funcionario):\n",
    "    cursor = conn.cursor()\n",
    "    cursor.execute('INSERT INTO funcionarios (nome, cargo, salario) VALUES (?, ?, ?)',\n",
    "                   (funcionario.nome, funcionario.cargo, funcionario.salario))\n",
    "    conn.commit()\n",
    "\n",
    "# Teste de integração\n",
    "def test_integracao_inserir_funcionario():\n",
    "    conn = sqlite3.connect(':memory:')\n",
    "    init_db(conn)  # Cria a tabela antes de inserir\n",
    "\n",
    "    funcionario = Funcionario(\"Maria\", \"Gerente\", 5000.00)\n",
    "    inserir_funcionario(conn, funcionario)\n",
    "\n",
    "    cursor = conn.cursor()\n",
    "    cursor.execute('SELECT nome, cargo, salario FROM funcionarios WHERE nome = ?', (\"Maria\",))\n",
    "    resultado = cursor.fetchone()\n",
    "\n",
    "    assert resultado is not None, \"Nenhum resultado retornado do banco\"\n",
    "    assert resultado[0] == \"Maria\"\n",
    "    assert resultado[1] == \"Gerente\"\n",
    "    assert resultado[2] == 5000.00\n",
    "\n",
    "    conn.close()\n",
    "\n",
    "# Chamada direta para rodar no Colab\n",
    "test_integracao_inserir_funcionario()\n",
    "print(\"✅ Teste de integração de funcionário passou!\")"
   ]
  }
 ],
 "metadata": {
  "language_info": {
   "name": "python"
  }
 },
 "nbformat": 4,
 "nbformat_minor": 5
}
