{
 "cells": [
  {
   "cell_type": "code",
   "execution_count": null,
   "id": "bd6cef68",
   "metadata": {
    "vscode": {
     "languageId": "plaintext"
    }
   },
   "outputs": [],
   "source": [
    "import sqlite3\n",
    "\n",
    "# Definição da classe Produto\n",
    "class Produto:\n",
    "    def __init__(self, nome, preco):\n",
    "        self.nome = nome\n",
    "        self.preco = preco\n",
    "\n",
    "# Função para inserir produto no banco\n",
    "def inserir_produto(conn, produto):\n",
    "    cursor = conn.cursor()\n",
    "    cursor.execute('INSERT INTO produtos (nome, preco) VALUES (?, ?)', (produto.nome, produto.preco))\n",
    "    conn.commit()\n",
    "    return cursor.lastrowid\n",
    "\n",
    "# Função para inserir venda no banco\n",
    "def inserir_venda(conn, produto_id, vendas):\n",
    "    cursor = conn.cursor()\n",
    "    cursor.execute('INSERT INTO vendas (produto_id, vendas) VALUES (?, ?)', (produto_id, vendas))\n",
    "    conn.commit()\n",
    "\n",
    "# Teste de integração para inserir venda\n",
    "def test_integracao_inserir_venda():\n",
    "    conn = sqlite3.connect(':memory:')  # Banco em memória\n",
    "\n",
    "    cursor = conn.cursor()\n",
    "    # Criar tabela produtos\n",
    "    cursor.execute('''CREATE TABLE IF NOT EXISTS produtos (\n",
    "        id INTEGER PRIMARY KEY AUTOINCREMENT,\n",
    "        nome TEXT,\n",
    "        preco REAL\n",
    "    )''')\n",
    "\n",
    "    # Criar tabela vendas\n",
    "    cursor.execute('''CREATE TABLE IF NOT EXISTS vendas (\n",
    "        id INTEGER PRIMARY KEY AUTOINCREMENT,\n",
    "        produto_id INTEGER,\n",
    "        vendas INTEGER,\n",
    "        FOREIGN KEY (produto_id) REFERENCES produtos (id)\n",
    "    )''')\n",
    "    conn.commit()\n",
    "\n",
    "    # Criar um produto e inserir\n",
    "    produto = Produto(\"Teclado\", 75.00)\n",
    "    produto_id = inserir_produto(conn, produto)\n",
    "\n",
    "    # Inserir venda associada ao produto\n",
    "    inserir_venda(conn, produto_id, 50)\n",
    "\n",
    "    # Verificar se a venda foi inserida corretamente\n",
    "    cursor.execute('SELECT produto_id, vendas FROM vendas WHERE produto_id = ?', (produto_id,))\n",
    "    resultado = cursor.fetchone()\n",
    "\n",
    "    assert resultado is not None, \"Nenhuma venda encontrada.\"\n",
    "    assert resultado[0] == produto_id, f\"Esperado produto_id {produto_id}, mas veio {resultado[0]}\"\n",
    "    assert resultado[1] == 50, f\"Esperado vendas 50, mas veio {resultado[1]}\"\n",
    "\n",
    "    conn.close()\n",
    "\n",
    "# Executa o teste no Colab\n",
    "test_integracao_inserir_venda()\n",
    "print(\"✅ Teste de integração de venda passou!\")"
   ]
  }
 ],
 "metadata": {
  "language_info": {
   "name": "python"
  }
 },
 "nbformat": 4,
 "nbformat_minor": 5
}
