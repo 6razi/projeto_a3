{
 "cells": [
  {
   "cell_type": "code",
   "execution_count": null,
   "id": "85ab54b4",
   "metadata": {
    "vscode": {
     "languageId": "plaintext"
    }
   },
   "outputs": [],
   "source": [
    "import sqlite3\n",
    "\n",
    "class Produto:\n",
    "    def __init__(self, nome, preco):\n",
    "        self.nome = nome\n",
    "        self.preco = preco\n",
    "\n",
    "def inserir_produto(conn, produto):\n",
    "    cursor = conn.cursor()\n",
    "    cursor.execute(\n",
    "        \"INSERT INTO produtos (nome, preco) VALUES (?, ?)\",\n",
    "        (produto.nome, produto.preco)\n",
    "    )\n",
    "    conn.commit()\n",
    "    return cursor.lastrowid\n",
    "\n",
    "def test_integracao_inserir_produto():\n",
    "    conn = sqlite3.connect(':memory:')\n",
    "    cursor = conn.cursor()\n",
    "    cursor.execute('''CREATE TABLE IF NOT EXISTS produtos (\n",
    "        id INTEGER PRIMARY KEY AUTOINCREMENT,\n",
    "        nome TEXT,\n",
    "        preco REAL\n",
    "    )''')\n",
    "    conn.commit()\n",
    "\n",
    "    produto = Produto(\"Mouse\", 25.00)\n",
    "    produto_id = inserir_produto(conn, produto)\n",
    "\n",
    "    cursor.execute('SELECT nome, preco FROM produtos WHERE id = ?', (produto_id,))\n",
    "    resultado = cursor.fetchone()\n",
    "    assert resultado is not None, \"Nenhum resultado encontrado no banco.\"\n",
    "    assert resultado[0] == \"Mouse\", f\"Esperado 'Mouse', mas veio {resultado[0]}\"\n",
    "    assert resultado[1] == 25.00, f\"Esperado 25.00, mas veio {resultado[1]}\"\n",
    "    conn.close()\n",
    "\n",
    "test_integracao_inserir_produto()\n",
    "print(\"✅ Teste de integração do produto passou!\")"
   ]
  }
 ],
 "metadata": {
  "language_info": {
   "name": "python"
  }
 },
 "nbformat": 4,
 "nbformat_minor": 5
}
