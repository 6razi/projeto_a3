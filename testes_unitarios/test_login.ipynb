{
 "cells": [
  {
   "cell_type": "code",
   "execution_count": null,
   "id": "fae62ce6",
   "metadata": {
    "vscode": {
     "languageId": "plaintext"
    }
   },
   "outputs": [],
   "source": [
    "import sqlite3\n",
    "import hashlib\n",
    "import unittest\n",
    "\n",
    "#teste\n",
    "def hash_password(password):\n",
    "    \"\"\"Hash a senha usando SHA-256.\"\"\"\n",
    "    return hashlib.sha256(password.encode()).hexdigest()\n",
    "\n",
    "def create_user(conn, username, password):\n",
    "    \"\"\"Cria um novo usuário no banco de dados.\"\"\"\n",
    "    cursor = conn.cursor()\n",
    "    cursor.execute('INSERT INTO usuarios (username, password) VALUES (?, ?)', \n",
    "                   (username, hash_password(password)))\n",
    "    conn.commit()\n",
    "\n",
    "def authenticate_user(conn, username, password):\n",
    "    \"\"\"Verifica se as credenciais do usuário estão corretas.\"\"\"\n",
    "    cursor = conn.cursor()\n",
    "    cursor.execute('SELECT * FROM usuarios WHERE username = ? AND password = ?', \n",
    "                   (username, hash_password(password)))\n",
    "    return cursor.fetchone() is not None\n",
    "\n",
    "\n",
    "\n",
    "class TestLoginSenha(unittest.TestCase):\n",
    "    def setUp(self):\n",
    "        # Cria banco temporário em memória\n",
    "        self.conn = sqlite3.connect(':memory:')\n",
    "        self.conn.execute('''CREATE TABLE usuarios (\n",
    "            id INTEGER PRIMARY KEY AUTOINCREMENT,\n",
    "            username TEXT UNIQUE,\n",
    "            password TEXT\n",
    "        )''')\n",
    "\n",
    "    def tearDown(self):\n",
    "        self.conn.close()\n",
    "\n",
    "    def test_usuario_e_senha_correta(self):\n",
    "        create_user(self.conn, \"usuario1\", \"senha123\")\n",
    "        self.assertTrue(authenticate_user(self.conn, \"usuario1\", \"senha123\"))\n",
    "\n",
    "    def test_senha_incorreta(self):\n",
    "        create_user(self.conn, \"usuario2\", \"senha_certa\")\n",
    "        self.assertFalse(authenticate_user(self.conn, \"usuario2\", \"senha_errada\"))\n",
    "\n",
    "    def test_usuario_inexistente(self):\n",
    "        self.assertFalse(authenticate_user(self.conn, \"fantasma\", \"123456\"))\n",
    "\n",
    "    def test_hash_igual_para_mesma_senha(self):\n",
    "        hash1 = hash_password(\"abc123\")\n",
    "        hash2 = hash_password(\"abc123\")\n",
    "        self.assertEqual(hash1, hash2)\n",
    "\n",
    "    def test_hash_diferente_para_senhas_diferentes(self):\n",
    "        hash1 = hash_password(\"senha1\")\n",
    "        hash2 = hash_password(\"senha2\")\n",
    "        self.assertNotEqual(hash1, hash2)\n",
    "\n",
    "\n",
    "\n",
    "unittest.TextTestRunner().run(unittest.TestLoader().loadTestsFromTestCase(TestLoginSenha))"
   ]
  }
 ],
 "metadata": {
  "language_info": {
   "name": "python"
  }
 },
 "nbformat": 4,
 "nbformat_minor": 5
}
